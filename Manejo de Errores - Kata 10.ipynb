{
 "cells": [
  {
   "cell_type": "markdown",
   "metadata": {},
   "source": [
    "Tracebacks"
   ]
  },
  {
   "cell_type": "code",
   "execution_count": 26,
   "metadata": {},
   "outputs": [
    {
     "ename": "FileNotFoundError",
     "evalue": "[Errno 2] No such file or directory: '/path/to/mars.jpg'",
     "output_type": "error",
     "traceback": [
      "\u001b[1;31m---------------------------------------------------------------------------\u001b[0m",
      "\u001b[1;31mFileNotFoundError\u001b[0m                         Traceback (most recent call last)",
      "\u001b[1;32mc:\\Users\\GOBIERNO DEL ESTADO\\Downloads\\Untitled-1.ipynb Cell 2'\u001b[0m in \u001b[0;36m<module>\u001b[1;34m\u001b[0m\n\u001b[0;32m      <a href='vscode-notebook-cell:/c%3A/Users/GOBIERNO%20DEL%20ESTADO/Downloads/Untitled-1.ipynb#ch0000001?line=0'>1</a>\u001b[0m \u001b[39m#Abriendo un codigo inexistente \u001b[39;00m\n\u001b[0;32m      <a href='vscode-notebook-cell:/c%3A/Users/GOBIERNO%20DEL%20ESTADO/Downloads/Untitled-1.ipynb#ch0000001?line=1'>2</a>\u001b[0m \u001b[39m#stdin:entrada en el terminal interactivo (Cell 2)\u001b[39;00m\n\u001b[0;32m      <a href='vscode-notebook-cell:/c%3A/Users/GOBIERNO%20DEL%20ESTADO/Downloads/Untitled-1.ipynb#ch0000001?line=2'>3</a>\u001b[0m \u001b[39m#Error:\"FileNotFoundError\"\u001b[39;00m\n\u001b[1;32m----> <a href='vscode-notebook-cell:/c%3A/Users/GOBIERNO%20DEL%20ESTADO/Downloads/Untitled-1.ipynb#ch0000001?line=4'>5</a>\u001b[0m \u001b[39mopen\u001b[39;49m(\u001b[39m\"\u001b[39;49m\u001b[39m/path/to/mars.jpg\u001b[39;49m\u001b[39m\"\u001b[39;49m)\n",
      "\u001b[1;31mFileNotFoundError\u001b[0m: [Errno 2] No such file or directory: '/path/to/mars.jpg'"
     ]
    }
   ],
   "source": [
    "#Abriendo un codigo inexistente \n",
    "#stdin:entrada en el terminal interactivo (Cell 2)\n",
    "#Error:\"FileNotFoundError\"\n",
    "\n",
    "open(\"/path/to/mars.jpg\")"
   ]
  },
  {
   "cell_type": "code",
   "execution_count": 27,
   "metadata": {},
   "outputs": [
    {
     "ename": "FileNotFoundError",
     "evalue": "[Errno 2] No such file or directory: '/path/to/mars.jpg'",
     "output_type": "error",
     "traceback": [
      "\u001b[1;31m---------------------------------------------------------------------------\u001b[0m",
      "\u001b[1;31mFileNotFoundError\u001b[0m                         Traceback (most recent call last)",
      "\u001b[1;32mc:\\Users\\GOBIERNO DEL ESTADO\\Downloads\\Untitled-1.ipynb Cell 3'\u001b[0m in \u001b[0;36m<module>\u001b[1;34m\u001b[0m\n\u001b[0;32m      <a href='vscode-notebook-cell:/c%3A/Users/GOBIERNO%20DEL%20ESTADO/Downloads/Untitled-1.ipynb#ch0000002?line=6'>7</a>\u001b[0m     \u001b[39mopen\u001b[39m(\u001b[39m\"\u001b[39m\u001b[39m/path/to/mars.jpg\u001b[39m\u001b[39m\"\u001b[39m)\n\u001b[0;32m      <a href='vscode-notebook-cell:/c%3A/Users/GOBIERNO%20DEL%20ESTADO/Downloads/Untitled-1.ipynb#ch0000002?line=8'>9</a>\u001b[0m \u001b[39mif\u001b[39;00m \u001b[39m__name__\u001b[39m \u001b[39m==\u001b[39m \u001b[39m'\u001b[39m\u001b[39m__main__\u001b[39m\u001b[39m'\u001b[39m:\n\u001b[1;32m---> <a href='vscode-notebook-cell:/c%3A/Users/GOBIERNO%20DEL%20ESTADO/Downloads/Untitled-1.ipynb#ch0000002?line=9'>10</a>\u001b[0m     main()\n",
      "\u001b[1;32mc:\\Users\\GOBIERNO DEL ESTADO\\Downloads\\Untitled-1.ipynb Cell 3'\u001b[0m in \u001b[0;36mmain\u001b[1;34m()\u001b[0m\n\u001b[0;32m      <a href='vscode-notebook-cell:/c%3A/Users/GOBIERNO%20DEL%20ESTADO/Downloads/Untitled-1.ipynb#ch0000002?line=5'>6</a>\u001b[0m \u001b[39mdef\u001b[39;00m \u001b[39mmain\u001b[39m():\n\u001b[1;32m----> <a href='vscode-notebook-cell:/c%3A/Users/GOBIERNO%20DEL%20ESTADO/Downloads/Untitled-1.ipynb#ch0000002?line=6'>7</a>\u001b[0m     \u001b[39mopen\u001b[39;49m(\u001b[39m\"\u001b[39;49m\u001b[39m/path/to/mars.jpg\u001b[39;49m\u001b[39m\"\u001b[39;49m)\n",
      "\u001b[1;31mFileNotFoundError\u001b[0m: [Errno 2] No such file or directory: '/path/to/mars.jpg'"
     ]
    }
   ],
   "source": [
    "#Abriendo un codigo inexistente \n",
    "#main: abre el archivo inexistente como antes\n",
    "#El error se inicia en la inea 8 que incluye la llamada a main()\n",
    "#Acontinuacion la salida sigue el error a la linea 5 en la llamada de funcion open()\n",
    "#FileNotFoundError notifica que el archivo o el directorio no existen.\n",
    "def main():\n",
    "    open(\"/path/to/mars.jpg\")\n",
    "\n",
    "if __name__ == '__main__':\n",
    "    main()"
   ]
  },
  {
   "cell_type": "markdown",
   "metadata": {},
   "source": [
    "Controlando las excepciones"
   ]
  },
  {
   "cell_type": "markdown",
   "metadata": {},
   "source": [
    "- Try y Except de los bloques"
   ]
  },
  {
   "cell_type": "code",
   "execution_count": 28,
   "metadata": {},
   "outputs": [
    {
     "name": "stdout",
     "output_type": "stream",
     "text": [
      "Couldn't find the config.txt file!\n"
     ]
    }
   ],
   "source": [
    "#Controlando una exepcion con \"try\" and \"except\"\n",
    "#El bloque \"try\" y \"except\",junto con un mensaje útil, evita un seguimiento y sigue informando al usuario sobre el problema.\n",
    "def main():\n",
    "    try:\n",
    "        configuration = open('config.txt')\n",
    "    except FileNotFoundError:\n",
    "        print(\"Couldn't find the config.txt file!\")\n",
    "\n",
    "if __name__ == '__main__':\n",
    "    main()"
   ]
  },
  {
   "cell_type": "code",
   "execution_count": 29,
   "metadata": {},
   "outputs": [],
   "source": [
    "def main():\n",
    "    try:\n",
    "        configuration = open('config.ipynb')\n",
    "    except Exception:\n",
    "        print(\"Couldn't find the config.py file!\")"
   ]
  },
  {
   "cell_type": "code",
   "execution_count": 30,
   "metadata": {},
   "outputs": [],
   "source": [
    "def main():\n",
    "    try:\n",
    "        configuration = open('config.txt')\n",
    "    except FileNotFoundError:\n",
    "        print(\"Couldn't find the config.txt file!\")\n",
    "    except IsADirectoryError:\n",
    "        print(\"Found config.txt but it is a directory, couldn't read it\")\n",
    "    except PermissionError:\n",
    "        print(\"Found config.txt but couldn't read it\")"
   ]
  },
  {
   "cell_type": "markdown",
   "metadata": {},
   "source": [
    "Sugerencia"
   ]
  },
  {
   "cell_type": "code",
   "execution_count": 32,
   "metadata": {},
   "outputs": [
    {
     "name": "stdout",
     "output_type": "stream",
     "text": [
      "got a problem trying to read the file: [Errno 2] No such file or directory: 'mars.jpg'\n"
     ]
    }
   ],
   "source": [
    "try:\n",
    "    open(\"mars.jpg\")\n",
    "except FileNotFoundError as err:\n",
    "    print(\"got a problem trying to read the file:\", err)"
   ]
  },
  {
   "cell_type": "markdown",
   "metadata": {},
   "source": [
    "Generación de excepciones"
   ]
  },
  {
   "cell_type": "code",
   "execution_count": 9,
   "metadata": {},
   "outputs": [],
   "source": [
    "def water_left(astronauts, water_left, days_left):\n",
    "    daily_usage = astronauts * 11\n",
    "    total_usage = daily_usage * days_left\n",
    "    total_water_left = water_left - total_usage\n",
    "    return f\"Total water left after {days_left} days is: {total_water_left} liters\""
   ]
  },
  {
   "cell_type": "code",
   "execution_count": 10,
   "metadata": {},
   "outputs": [
    {
     "data": {
      "text/plain": [
       "'Total water left after 2 days is: -10 liters'"
      ]
     },
     "execution_count": 10,
     "metadata": {},
     "output_type": "execute_result"
    }
   ],
   "source": [
    "water_left(5, 100, 2)"
   ]
  },
  {
   "cell_type": "code",
   "execution_count": 12,
   "metadata": {},
   "outputs": [],
   "source": [
    "#Generando una excepción en la función water_left() para alertar de la condición de error:\n",
    "def water_left(astronauts, water_left, days_left):\n",
    "    daily_usage = astronauts * 11\n",
    "    total_usage = daily_usage * days_left\n",
    "    total_water_left = water_left - total_usage\n",
    "# water_left()\n",
    "    if total_water_left < 0:\n",
    "        raise RuntimeError(f\"There is not enough water for {astronauts} astronauts after {days_left} days!\")\n",
    "    return f\"Total water left after {days_left} days is: {total_water_left} liters\""
   ]
  },
  {
   "cell_type": "code",
   "execution_count": 13,
   "metadata": {},
   "outputs": [
    {
     "ename": "RuntimeError",
     "evalue": "There is not enough water for 5 astronauts after 2 days!",
     "output_type": "error",
     "traceback": [
      "\u001b[1;31m---------------------------------------------------------------------------\u001b[0m",
      "\u001b[1;31mRuntimeError\u001b[0m                              Traceback (most recent call last)",
      "\u001b[1;32mc:\\Users\\GOBIERNO DEL ESTADO\\Downloads\\Untitled-1.ipynb Cell 11'\u001b[0m in \u001b[0;36m<module>\u001b[1;34m\u001b[0m\n\u001b[1;32m----> <a href='vscode-notebook-cell:/c%3A/Users/GOBIERNO%20DEL%20ESTADO/Downloads/Untitled-1.ipynb#ch0000012?line=0'>1</a>\u001b[0m water_left(\u001b[39m5\u001b[39;49m, \u001b[39m100\u001b[39;49m, \u001b[39m2\u001b[39;49m)\n",
      "\u001b[1;32mc:\\Users\\GOBIERNO DEL ESTADO\\Downloads\\Untitled-1.ipynb Cell 10'\u001b[0m in \u001b[0;36mwater_left\u001b[1;34m(astronauts, water_left, days_left)\u001b[0m\n\u001b[0;32m      <a href='vscode-notebook-cell:/c%3A/Users/GOBIERNO%20DEL%20ESTADO/Downloads/Untitled-1.ipynb#ch0000011?line=4'>5</a>\u001b[0m total_water_left \u001b[39m=\u001b[39m water_left \u001b[39m-\u001b[39m total_usage\n\u001b[0;32m      <a href='vscode-notebook-cell:/c%3A/Users/GOBIERNO%20DEL%20ESTADO/Downloads/Untitled-1.ipynb#ch0000011?line=5'>6</a>\u001b[0m \u001b[39mif\u001b[39;00m total_water_left \u001b[39m<\u001b[39m \u001b[39m0\u001b[39m:\n\u001b[1;32m----> <a href='vscode-notebook-cell:/c%3A/Users/GOBIERNO%20DEL%20ESTADO/Downloads/Untitled-1.ipynb#ch0000011?line=6'>7</a>\u001b[0m     \u001b[39mraise\u001b[39;00m \u001b[39mRuntimeError\u001b[39;00m(\u001b[39mf\u001b[39m\u001b[39m\"\u001b[39m\u001b[39mThere is not enough water for \u001b[39m\u001b[39m{\u001b[39;00mastronauts\u001b[39m}\u001b[39;00m\u001b[39m astronauts after \u001b[39m\u001b[39m{\u001b[39;00mdays_left\u001b[39m}\u001b[39;00m\u001b[39m days!\u001b[39m\u001b[39m\"\u001b[39m)\n\u001b[0;32m      <a href='vscode-notebook-cell:/c%3A/Users/GOBIERNO%20DEL%20ESTADO/Downloads/Untitled-1.ipynb#ch0000011?line=7'>8</a>\u001b[0m \u001b[39mreturn\u001b[39;00m \u001b[39mf\u001b[39m\u001b[39m\"\u001b[39m\u001b[39mTotal water left after \u001b[39m\u001b[39m{\u001b[39;00mdays_left\u001b[39m}\u001b[39;00m\u001b[39m days is: \u001b[39m\u001b[39m{\u001b[39;00mtotal_water_left\u001b[39m}\u001b[39;00m\u001b[39m liters\u001b[39m\u001b[39m\"\u001b[39m\n",
      "\u001b[1;31mRuntimeError\u001b[0m: There is not enough water for 5 astronauts after 2 days!"
     ]
    }
   ],
   "source": [
    "water_left(5, 100, 2)"
   ]
  },
  {
   "cell_type": "code",
   "execution_count": 22,
   "metadata": {},
   "outputs": [
    {
     "ename": "TypeError",
     "evalue": "can't multiply sequence by non-int of type 'NoneType'",
     "output_type": "error",
     "traceback": [
      "\u001b[1;31m---------------------------------------------------------------------------\u001b[0m",
      "\u001b[1;31mTypeError\u001b[0m                                 Traceback (most recent call last)",
      "\u001b[1;32mc:\\Users\\GOBIERNO DEL ESTADO\\Downloads\\Untitled-1.ipynb Cell 12'\u001b[0m in \u001b[0;36m<module>\u001b[1;34m\u001b[0m\n\u001b[0;32m      <a href='vscode-notebook-cell:/c%3A/Users/GOBIERNO%20DEL%20ESTADO/Downloads/Untitled-1.ipynb#ch0000014?line=0'>1</a>\u001b[0m \u001b[39mtry\u001b[39;00m:\n\u001b[1;32m----> <a href='vscode-notebook-cell:/c%3A/Users/GOBIERNO%20DEL%20ESTADO/Downloads/Untitled-1.ipynb#ch0000014?line=1'>2</a>\u001b[0m     water_left(\u001b[39m\"\u001b[39;49m\u001b[39m3\u001b[39;49m\u001b[39m\"\u001b[39;49m, \u001b[39m\"\u001b[39;49m\u001b[39m200\u001b[39;49m\u001b[39m\"\u001b[39;49m, \u001b[39mNone\u001b[39;49;00m)\n\u001b[0;32m      <a href='vscode-notebook-cell:/c%3A/Users/GOBIERNO%20DEL%20ESTADO/Downloads/Untitled-1.ipynb#ch0000014?line=2'>3</a>\u001b[0m \u001b[39mexcept\u001b[39;00m \u001b[39mRuntimeError\u001b[39;00m \u001b[39mas\u001b[39;00m err:\n\u001b[0;32m      <a href='vscode-notebook-cell:/c%3A/Users/GOBIERNO%20DEL%20ESTADO/Downloads/Untitled-1.ipynb#ch0000014?line=3'>4</a>\u001b[0m     alert_navigation_system(err)\n",
      "\u001b[1;32mc:\\Users\\GOBIERNO DEL ESTADO\\Downloads\\Untitled-1.ipynb Cell 12'\u001b[0m in \u001b[0;36mwater_left\u001b[1;34m(astronauts, water_left, days_left)\u001b[0m\n\u001b[0;32m      <a href='vscode-notebook-cell:/c%3A/Users/GOBIERNO%20DEL%20ESTADO/Downloads/Untitled-1.ipynb#ch0000014?line=2'>3</a>\u001b[0m \u001b[39mdef\u001b[39;00m \u001b[39mwater_left\u001b[39m(astronauts, water_left, days_left):\n\u001b[0;32m      <a href='vscode-notebook-cell:/c%3A/Users/GOBIERNO%20DEL%20ESTADO/Downloads/Untitled-1.ipynb#ch0000014?line=3'>4</a>\u001b[0m     daily_usage \u001b[39m=\u001b[39m astronauts \u001b[39m*\u001b[39m \u001b[39m11\u001b[39m\n\u001b[1;32m----> <a href='vscode-notebook-cell:/c%3A/Users/GOBIERNO%20DEL%20ESTADO/Downloads/Untitled-1.ipynb#ch0000014?line=4'>5</a>\u001b[0m     total_usage \u001b[39m=\u001b[39m daily_usage \u001b[39m*\u001b[39;49m days_left\n\u001b[0;32m      <a href='vscode-notebook-cell:/c%3A/Users/GOBIERNO%20DEL%20ESTADO/Downloads/Untitled-1.ipynb#ch0000014?line=5'>6</a>\u001b[0m     total_water_left \u001b[39m=\u001b[39m water_left \u001b[39m-\u001b[39m total_usage\n\u001b[0;32m      <a href='vscode-notebook-cell:/c%3A/Users/GOBIERNO%20DEL%20ESTADO/Downloads/Untitled-1.ipynb#ch0000014?line=6'>7</a>\u001b[0m \u001b[39m# water_left()\u001b[39;00m\n",
      "\u001b[1;31mTypeError\u001b[0m: can't multiply sequence by non-int of type 'NoneType'"
     ]
    }
   ],
   "source": [
    "try:\n",
    "    water_left(\"3\", \"200\", None)\n",
    "except RuntimeError as err:\n",
    "    alert_navigation_system(err)"
   ]
  },
  {
   "cell_type": "markdown",
   "metadata": {},
   "source": [
    "Actualizaremos la función para que use `TypeError`, pero con un mensaje mejor:"
   ]
  },
  {
   "cell_type": "code",
   "execution_count": 21,
   "metadata": {},
   "outputs": [],
   "source": [
    "def water_left(astronauts, water_left, days_left):\n",
    "    for argument in [astronauts, water_left, days_left]:\n",
    "        try:\n",
    "            # If argument is an int, the following operation will work\n",
    "            argument / 10\n",
    "        except TypeError:\n",
    "            # TypError will be raised only if it isn't the right type \n",
    "            # Raise the same exception but with a better error message\n",
    "            raise TypeError(f\"All arguments must be of type int, but received: '{argument}'\")\n",
    "    daily_usage = astronauts * 11\n",
    "    total_usage = daily_usage * days_left\n",
    "    total_water_left = water_left - total_usage\n",
    "    if total_water_left < 0:\n",
    "        raise RuntimeError(f\"There is not enough water for {astronauts} astronauts after {days_left} days!\")\n",
    "    return f\"Total water left after {days_left} days is: {total_water_left} liters\""
   ]
  },
  {
   "cell_type": "code",
   "execution_count": 22,
   "metadata": {},
   "outputs": [
    {
     "ename": "TypeError",
     "evalue": "All arguments must be of type int, but received: '3'",
     "output_type": "error",
     "traceback": [
      "\u001b[1;31m---------------------------------------------------------------------------\u001b[0m",
      "\u001b[1;31mTypeError\u001b[0m                                 Traceback (most recent call last)",
      "\u001b[1;32mc:\\Users\\GOBIERNO DEL ESTADO\\Downloads\\Untitled-1.ipynb Cell 19'\u001b[0m in \u001b[0;36mwater_left\u001b[1;34m(astronauts, water_left, days_left)\u001b[0m\n\u001b[0;32m      <a href='vscode-notebook-cell:/c%3A/Users/GOBIERNO%20DEL%20ESTADO/Downloads/Untitled-1.ipynb#ch0000013?line=2'>3</a>\u001b[0m \u001b[39mtry\u001b[39;00m:\n\u001b[0;32m      <a href='vscode-notebook-cell:/c%3A/Users/GOBIERNO%20DEL%20ESTADO/Downloads/Untitled-1.ipynb#ch0000013?line=3'>4</a>\u001b[0m     \u001b[39m# If argument is an int, the following operation will work\u001b[39;00m\n\u001b[1;32m----> <a href='vscode-notebook-cell:/c%3A/Users/GOBIERNO%20DEL%20ESTADO/Downloads/Untitled-1.ipynb#ch0000013?line=4'>5</a>\u001b[0m     argument \u001b[39m/\u001b[39;49m \u001b[39m10\u001b[39;49m\n\u001b[0;32m      <a href='vscode-notebook-cell:/c%3A/Users/GOBIERNO%20DEL%20ESTADO/Downloads/Untitled-1.ipynb#ch0000013?line=5'>6</a>\u001b[0m \u001b[39mexcept\u001b[39;00m \u001b[39mTypeError\u001b[39;00m:\n\u001b[0;32m      <a href='vscode-notebook-cell:/c%3A/Users/GOBIERNO%20DEL%20ESTADO/Downloads/Untitled-1.ipynb#ch0000013?line=6'>7</a>\u001b[0m     \u001b[39m# TypError will be raised only if it isn't the right type \u001b[39;00m\n\u001b[0;32m      <a href='vscode-notebook-cell:/c%3A/Users/GOBIERNO%20DEL%20ESTADO/Downloads/Untitled-1.ipynb#ch0000013?line=7'>8</a>\u001b[0m     \u001b[39m# Raise the same exception but with a better error message\u001b[39;00m\n",
      "\u001b[1;31mTypeError\u001b[0m: unsupported operand type(s) for /: 'str' and 'int'",
      "\nDuring handling of the above exception, another exception occurred:\n",
      "\u001b[1;31mTypeError\u001b[0m                                 Traceback (most recent call last)",
      "\u001b[1;32mc:\\Users\\GOBIERNO DEL ESTADO\\Downloads\\Untitled-1.ipynb Cell 20'\u001b[0m in \u001b[0;36m<module>\u001b[1;34m\u001b[0m\n\u001b[1;32m----> <a href='vscode-notebook-cell:/c%3A/Users/GOBIERNO%20DEL%20ESTADO/Downloads/Untitled-1.ipynb#ch0000023?line=0'>1</a>\u001b[0m water_left(\u001b[39m\"\u001b[39;49m\u001b[39m3\u001b[39;49m\u001b[39m\"\u001b[39;49m, \u001b[39m\"\u001b[39;49m\u001b[39m200\u001b[39;49m\u001b[39m\"\u001b[39;49m, \u001b[39mNone\u001b[39;49;00m)\n",
      "\u001b[1;32mc:\\Users\\GOBIERNO DEL ESTADO\\Downloads\\Untitled-1.ipynb Cell 19'\u001b[0m in \u001b[0;36mwater_left\u001b[1;34m(astronauts, water_left, days_left)\u001b[0m\n\u001b[0;32m      <a href='vscode-notebook-cell:/c%3A/Users/GOBIERNO%20DEL%20ESTADO/Downloads/Untitled-1.ipynb#ch0000013?line=4'>5</a>\u001b[0m         argument \u001b[39m/\u001b[39m \u001b[39m10\u001b[39m\n\u001b[0;32m      <a href='vscode-notebook-cell:/c%3A/Users/GOBIERNO%20DEL%20ESTADO/Downloads/Untitled-1.ipynb#ch0000013?line=5'>6</a>\u001b[0m     \u001b[39mexcept\u001b[39;00m \u001b[39mTypeError\u001b[39;00m:\n\u001b[0;32m      <a href='vscode-notebook-cell:/c%3A/Users/GOBIERNO%20DEL%20ESTADO/Downloads/Untitled-1.ipynb#ch0000013?line=6'>7</a>\u001b[0m         \u001b[39m# TypError will be raised only if it isn't the right type \u001b[39;00m\n\u001b[0;32m      <a href='vscode-notebook-cell:/c%3A/Users/GOBIERNO%20DEL%20ESTADO/Downloads/Untitled-1.ipynb#ch0000013?line=7'>8</a>\u001b[0m         \u001b[39m# Raise the same exception but with a better error message\u001b[39;00m\n\u001b[1;32m----> <a href='vscode-notebook-cell:/c%3A/Users/GOBIERNO%20DEL%20ESTADO/Downloads/Untitled-1.ipynb#ch0000013?line=8'>9</a>\u001b[0m         \u001b[39mraise\u001b[39;00m \u001b[39mTypeError\u001b[39;00m(\u001b[39mf\u001b[39m\u001b[39m\"\u001b[39m\u001b[39mAll arguments must be of type int, but received: \u001b[39m\u001b[39m'\u001b[39m\u001b[39m{\u001b[39;00margument\u001b[39m}\u001b[39;00m\u001b[39m'\u001b[39m\u001b[39m\"\u001b[39m)\n\u001b[0;32m     <a href='vscode-notebook-cell:/c%3A/Users/GOBIERNO%20DEL%20ESTADO/Downloads/Untitled-1.ipynb#ch0000013?line=9'>10</a>\u001b[0m daily_usage \u001b[39m=\u001b[39m astronauts \u001b[39m*\u001b[39m \u001b[39m11\u001b[39m\n\u001b[0;32m     <a href='vscode-notebook-cell:/c%3A/Users/GOBIERNO%20DEL%20ESTADO/Downloads/Untitled-1.ipynb#ch0000013?line=10'>11</a>\u001b[0m total_usage \u001b[39m=\u001b[39m daily_usage \u001b[39m*\u001b[39m days_left\n",
      "\u001b[1;31mTypeError\u001b[0m: All arguments must be of type int, but received: '3'"
     ]
    }
   ],
   "source": [
    "water_left(\"3\", \"200\", None)"
   ]
  }
 ],
 "metadata": {
  "interpreter": {
   "hash": "917ae91d9a3dd1fd7a27922fa7a03fed899c1a5cfd4a6d755bd9b785b00a0eee"
  },
  "kernelspec": {
   "display_name": "Python 3.10.2 64-bit (windows store)",
   "language": "python",
   "name": "python3"
  },
  "language_info": {
   "codemirror_mode": {
    "name": "ipython",
    "version": 3
   },
   "file_extension": ".py",
   "mimetype": "text/x-python",
   "name": "python",
   "nbconvert_exporter": "python",
   "pygments_lexer": "ipython3",
   "version": "3.10.2"
  },
  "orig_nbformat": 4
 },
 "nbformat": 4,
 "nbformat_minor": 2
}
